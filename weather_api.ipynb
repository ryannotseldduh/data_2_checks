{
 "cells": [
  {
   "attachments": {},
   "cell_type": "markdown",
   "metadata": {},
   "source": [
    "# importing libraries"
   ]
  },
  {
   "cell_type": "code",
   "execution_count": 232,
   "metadata": {},
   "outputs": [],
   "source": [
    "import requests\n",
    "import pandas as pd\n",
    "import pprint\n",
    "import json "
   ]
  },
  {
   "attachments": {},
   "cell_type": "markdown",
   "metadata": {},
   "source": [
    "# reading in my api with URL. I'm going to compare two different queries, so I went ahead and made them both in this cell"
   ]
  },
  {
   "cell_type": "code",
   "execution_count": 265,
   "metadata": {},
   "outputs": [
    {
     "name": "stdout",
     "output_type": "stream",
     "text": [
      "{'current': {'cloud': 100,\n",
      "             'condition': {'code': 1183,\n",
      "                           'icon': '//cdn.weatherapi.com/weather/64x64/day/296.png',\n",
      "                           'text': 'Light rain'},\n",
      "             'feelslike_c': 19.4,\n",
      "             'feelslike_f': 66.9,\n",
      "             'gust_kph': 19.8,\n",
      "             'gust_mph': 12.3,\n",
      "             'humidity': 87,\n",
      "             'is_day': 1,\n",
      "             'last_updated': '2023-06-21 11:45',\n",
      "             'last_updated_epoch': 1687362300,\n",
      "             'precip_in': 0.0,\n",
      "             'precip_mm': 0.0,\n",
      "             'pressure_in': 30.02,\n",
      "             'pressure_mb': 1017.0,\n",
      "             'temp_c': 19.4,\n",
      "             'temp_f': 66.9,\n",
      "             'uv': 5.0,\n",
      "             'vis_km': 11.0,\n",
      "             'vis_miles': 6.0,\n",
      "             'wind_degree': 70,\n",
      "             'wind_dir': 'ENE',\n",
      "             'wind_kph': 20.2,\n",
      "             'wind_mph': 12.5},\n",
      " 'location': {'country': 'United States of America',\n",
      "              'lat': 38.25,\n",
      "              'localtime': '2023-06-21 11:58',\n",
      "              'localtime_epoch': 1687363082,\n",
      "              'lon': -85.76,\n",
      "              'name': 'Louisville',\n",
      "              'region': 'Kentucky',\n",
      "              'tz_id': 'America/Kentucky/Louisville'}}\n"
     ]
    }
   ],
   "source": [
    "url = \"https://weatherapi-com.p.rapidapi.com/current.json\"\n",
    "\n",
    "querystring1 = {\"q\":\"Louisville, Kentucky\"}\n",
    "querystring2=  {\"q\":\"Cancun, Mexico\"}\n",
    "\n",
    "headers = {\n",
    "\t\"X-RapidAPI-Key\": \"\",\n",
    "\t\"X-RapidAPI-Host\": \"weatherapi-com.p.rapidapi.com\"\n",
    "}\n",
    "\n",
    "response1 = requests.get(url, headers=headers, params=querystring1)\n",
    "\n",
    "pprint.pprint(response1.json())"
   ]
  },
  {
   "attachments": {},
   "cell_type": "markdown",
   "metadata": {},
   "source": [
    "# This code changes my json file into a python dict, and the last bit makes sure of that"
   ]
  },
  {
   "cell_type": "code",
   "execution_count": 266,
   "metadata": {},
   "outputs": [
    {
     "data": {
      "text/plain": [
       "dict"
      ]
     },
     "execution_count": 266,
     "metadata": {},
     "output_type": "execute_result"
    }
   ],
   "source": [
    "response_info1 = json.loads(response1.text)\n",
    "current_Louisville = response_info1['current']\n",
    "type(current_Louisville)"
   ]
  },
  {
   "attachments": {},
   "cell_type": "markdown",
   "metadata": {},
   "source": [
    "# This makes my dict into a data frame "
   ]
  },
  {
   "cell_type": "code",
   "execution_count": 235,
   "metadata": {},
   "outputs": [
    {
     "data": {
      "text/plain": [
       "pandas.core.frame.DataFrame"
      ]
     },
     "execution_count": 235,
     "metadata": {},
     "output_type": "execute_result"
    }
   ],
   "source": [
    "df1= pd.DataFrame(current_Louisville)\n",
    "type(df1)"
   ]
  },
  {
   "attachments": {},
   "cell_type": "markdown",
   "metadata": {},
   "source": [
    "# This code reads my second query in, makes that json into a python dict and then changes that into a dataframe"
   ]
  },
  {
   "cell_type": "code",
   "execution_count": 236,
   "metadata": {},
   "outputs": [],
   "source": [
    "response2 = requests.get(url, headers=headers, params=querystring2)\n",
    "response_info2 = json.loads(response2.text)\n",
    "current_Cancun = response_info2['current']\n",
    "df2= pd.DataFrame(current_Cancun)"
   ]
  },
  {
   "attachments": {},
   "cell_type": "markdown",
   "metadata": {},
   "source": [
    "# Just wanted to print it so I could see what I had in values "
   ]
  },
  {
   "cell_type": "code",
   "execution_count": 237,
   "metadata": {},
   "outputs": [
    {
     "name": "stdout",
     "output_type": "stream",
     "text": [
      "{'current': {'cloud': 50,\n",
      "             'condition': {'code': 1003,\n",
      "                           'icon': '//cdn.weatherapi.com/weather/64x64/day/116.png',\n",
      "                           'text': 'Partly cloudy'},\n",
      "             'feelslike_c': 37.1,\n",
      "             'feelslike_f': 98.8,\n",
      "             'gust_kph': 19.4,\n",
      "             'gust_mph': 12.1,\n",
      "             'humidity': 63,\n",
      "             'is_day': 1,\n",
      "             'last_updated': '2023-06-21 10:30',\n",
      "             'last_updated_epoch': 1687361400,\n",
      "             'precip_in': 0.0,\n",
      "             'precip_mm': 0.0,\n",
      "             'pressure_in': 29.9,\n",
      "             'pressure_mb': 1013.0,\n",
      "             'temp_c': 31.0,\n",
      "             'temp_f': 87.8,\n",
      "             'uv': 8.0,\n",
      "             'vis_km': 11.0,\n",
      "             'vis_miles': 6.0,\n",
      "             'wind_degree': 110,\n",
      "             'wind_dir': 'ESE',\n",
      "             'wind_kph': 20.2,\n",
      "             'wind_mph': 12.5},\n",
      " 'location': {'country': 'Mexico',\n",
      "              'lat': 21.17,\n",
      "              'localtime': '2023-06-21 10:47',\n",
      "              'localtime_epoch': 1687362423,\n",
      "              'lon': -86.85,\n",
      "              'name': 'Cancun',\n",
      "              'region': 'Quintana Roo',\n",
      "              'tz_id': 'America/Cancun'}}\n"
     ]
    }
   ],
   "source": [
    "pprint.pprint(response2.json())"
   ]
  },
  {
   "attachments": {},
   "cell_type": "markdown",
   "metadata": {},
   "source": [
    "# Here I was trying to see if there were any empty cells, looks like not "
   ]
  },
  {
   "cell_type": "code",
   "execution_count": 238,
   "metadata": {},
   "outputs": [
    {
     "data": {
      "text/plain": [
       "False"
      ]
     },
     "execution_count": 238,
     "metadata": {},
     "output_type": "execute_result"
    }
   ],
   "source": [
    "df1.empty"
   ]
  },
  {
   "attachments": {},
   "cell_type": "markdown",
   "metadata": {},
   "source": [
    "# No NA values in this data set"
   ]
  },
  {
   "cell_type": "code",
   "execution_count": 239,
   "metadata": {},
   "outputs": [
    {
     "data": {
      "text/plain": [
       "<bound method DataFrame.isna of       last_updated_epoch      last_updated  temp_c  temp_f  is_day  \\\n",
       "code          1687361400  2023-06-21 10:30    31.0    87.8       1   \n",
       "icon          1687361400  2023-06-21 10:30    31.0    87.8       1   \n",
       "text          1687361400  2023-06-21 10:30    31.0    87.8       1   \n",
       "\n",
       "                                           condition  wind_mph  wind_kph  \\\n",
       "code                                            1003      12.5      20.2   \n",
       "icon  //cdn.weatherapi.com/weather/64x64/day/116.png      12.5      20.2   \n",
       "text                                   Partly cloudy      12.5      20.2   \n",
       "\n",
       "      wind_degree wind_dir  ...  precip_in  humidity  cloud  feelslike_c  \\\n",
       "code          110      ESE  ...        0.0        63     50         37.1   \n",
       "icon          110      ESE  ...        0.0        63     50         37.1   \n",
       "text          110      ESE  ...        0.0        63     50         37.1   \n",
       "\n",
       "      feelslike_f  vis_km  vis_miles   uv  gust_mph  gust_kph  \n",
       "code         98.8    11.0        6.0  8.0      12.1      19.4  \n",
       "icon         98.8    11.0        6.0  8.0      12.1      19.4  \n",
       "text         98.8    11.0        6.0  8.0      12.1      19.4  \n",
       "\n",
       "[3 rows x 23 columns]>"
      ]
     },
     "execution_count": 239,
     "metadata": {},
     "output_type": "execute_result"
    }
   ],
   "source": [
    "df2.isna"
   ]
  },
  {
   "attachments": {},
   "cell_type": "markdown",
   "metadata": {},
   "source": [
    "# This is just some arithmatic with values from my data frames. I wasn't able to get mean() to work for this. Not sure if it's because it's just two items or not. "
   ]
  },
  {
   "cell_type": "code",
   "execution_count": 240,
   "metadata": {},
   "outputs": [
    {
     "data": {
      "text/plain": [
       "code    73\n",
       "icon    73\n",
       "text    73\n",
       "Name: humidity, dtype: int64"
      ]
     },
     "execution_count": 240,
     "metadata": {},
     "output_type": "execute_result"
    }
   ],
   "source": [
    "(df1['humidity'] +  df2['humidity']) //2 "
   ]
  },
  {
   "attachments": {},
   "cell_type": "markdown",
   "metadata": {},
   "source": [
    "# This is just some arithmatic with values from my data frames. I wasn't able to get sum() to work for this. Not sure if it's because it's just two items or not. "
   ]
  },
  {
   "cell_type": "code",
   "execution_count": 241,
   "metadata": {},
   "outputs": [
    {
     "data": {
      "text/plain": [
       "code    24.4\n",
       "icon    24.4\n",
       "text    24.4\n",
       "Name: gust_mph, dtype: float64"
      ]
     },
     "execution_count": 241,
     "metadata": {},
     "output_type": "execute_result"
    }
   ],
   "source": [
    "(df1['gust_mph'] + df2['gust_mph'])"
   ]
  },
  {
   "attachments": {},
   "cell_type": "markdown",
   "metadata": {},
   "source": [
    "# In this cell, I was trying to refine the query to just show only places where conditions are  'Light rain'. Because of the scope of my df, this is showing nothing beucase the the current conditions in df2 are 'Partly cloudy'. "
   ]
  },
  {
   "cell_type": "code",
   "execution_count": 268,
   "metadata": {},
   "outputs": [
    {
     "data": {
      "text/html": [
       "<div>\n",
       "<style scoped>\n",
       "    .dataframe tbody tr th:only-of-type {\n",
       "        vertical-align: middle;\n",
       "    }\n",
       "\n",
       "    .dataframe tbody tr th {\n",
       "        vertical-align: top;\n",
       "    }\n",
       "\n",
       "    .dataframe thead th {\n",
       "        text-align: right;\n",
       "    }\n",
       "</style>\n",
       "<table border=\"1\" class=\"dataframe\">\n",
       "  <thead>\n",
       "    <tr style=\"text-align: right;\">\n",
       "      <th></th>\n",
       "      <th>last_updated_epoch</th>\n",
       "      <th>last_updated</th>\n",
       "      <th>temp_c</th>\n",
       "      <th>temp_f</th>\n",
       "      <th>is_day</th>\n",
       "      <th>condition</th>\n",
       "      <th>wind_mph</th>\n",
       "      <th>wind_kph</th>\n",
       "      <th>wind_degree</th>\n",
       "      <th>wind_dir</th>\n",
       "      <th>...</th>\n",
       "      <th>precip_in</th>\n",
       "      <th>humidity</th>\n",
       "      <th>cloud</th>\n",
       "      <th>feelslike_c</th>\n",
       "      <th>feelslike_f</th>\n",
       "      <th>vis_km</th>\n",
       "      <th>vis_miles</th>\n",
       "      <th>uv</th>\n",
       "      <th>gust_mph</th>\n",
       "      <th>gust_kph</th>\n",
       "    </tr>\n",
       "  </thead>\n",
       "  <tbody>\n",
       "  </tbody>\n",
       "</table>\n",
       "<p>0 rows × 23 columns</p>\n",
       "</div>"
      ],
      "text/plain": [
       "Empty DataFrame\n",
       "Columns: [last_updated_epoch, last_updated, temp_c, temp_f, is_day, condition, wind_mph, wind_kph, wind_degree, wind_dir, pressure_mb, pressure_in, precip_mm, precip_in, humidity, cloud, feelslike_c, feelslike_f, vis_km, vis_miles, uv, gust_mph, gust_kph]\n",
       "Index: []\n",
       "\n",
       "[0 rows x 23 columns]"
      ]
     },
     "execution_count": 268,
     "metadata": {},
     "output_type": "execute_result"
    }
   ],
   "source": [
    "df2.query(\"condition == 'Light rain'\", inplace=False)"
   ]
  },
  {
   "attachments": {},
   "cell_type": "markdown",
   "metadata": {},
   "source": [
    "# Here I wanted it to read out all my columns and rows, I was a bit confused by the ordering shown in the pprint from earlier, so this helped my to see everything I had."
   ]
  },
  {
   "cell_type": "code",
   "execution_count": 270,
   "metadata": {},
   "outputs": [
    {
     "data": {
      "text/html": [
       "<div>\n",
       "<style scoped>\n",
       "    .dataframe tbody tr th:only-of-type {\n",
       "        vertical-align: middle;\n",
       "    }\n",
       "\n",
       "    .dataframe tbody tr th {\n",
       "        vertical-align: top;\n",
       "    }\n",
       "\n",
       "    .dataframe thead th {\n",
       "        text-align: right;\n",
       "    }\n",
       "</style>\n",
       "<table border=\"1\" class=\"dataframe\">\n",
       "  <thead>\n",
       "    <tr style=\"text-align: right;\">\n",
       "      <th></th>\n",
       "      <th>last_updated_epoch</th>\n",
       "      <th>last_updated</th>\n",
       "      <th>temp_c</th>\n",
       "      <th>temp_f</th>\n",
       "      <th>is_day</th>\n",
       "      <th>condition</th>\n",
       "      <th>wind_mph</th>\n",
       "      <th>wind_kph</th>\n",
       "      <th>wind_degree</th>\n",
       "      <th>wind_dir</th>\n",
       "      <th>...</th>\n",
       "      <th>precip_in</th>\n",
       "      <th>humidity</th>\n",
       "      <th>cloud</th>\n",
       "      <th>feelslike_c</th>\n",
       "      <th>feelslike_f</th>\n",
       "      <th>vis_km</th>\n",
       "      <th>vis_miles</th>\n",
       "      <th>uv</th>\n",
       "      <th>gust_mph</th>\n",
       "      <th>gust_kph</th>\n",
       "    </tr>\n",
       "  </thead>\n",
       "  <tbody>\n",
       "    <tr>\n",
       "      <th>code</th>\n",
       "      <td>1687361400</td>\n",
       "      <td>2023-06-21 11:30</td>\n",
       "      <td>20.0</td>\n",
       "      <td>68.0</td>\n",
       "      <td>1</td>\n",
       "      <td>1183</td>\n",
       "      <td>15.0</td>\n",
       "      <td>24.1</td>\n",
       "      <td>70</td>\n",
       "      <td>ENE</td>\n",
       "      <td>...</td>\n",
       "      <td>0.0</td>\n",
       "      <td>84</td>\n",
       "      <td>100</td>\n",
       "      <td>20.0</td>\n",
       "      <td>68.0</td>\n",
       "      <td>14.0</td>\n",
       "      <td>8.0</td>\n",
       "      <td>5.0</td>\n",
       "      <td>12.3</td>\n",
       "      <td>19.8</td>\n",
       "    </tr>\n",
       "    <tr>\n",
       "      <th>icon</th>\n",
       "      <td>1687361400</td>\n",
       "      <td>2023-06-21 11:30</td>\n",
       "      <td>20.0</td>\n",
       "      <td>68.0</td>\n",
       "      <td>1</td>\n",
       "      <td>//cdn.weatherapi.com/weather/64x64/day/296.png</td>\n",
       "      <td>15.0</td>\n",
       "      <td>24.1</td>\n",
       "      <td>70</td>\n",
       "      <td>ENE</td>\n",
       "      <td>...</td>\n",
       "      <td>0.0</td>\n",
       "      <td>84</td>\n",
       "      <td>100</td>\n",
       "      <td>20.0</td>\n",
       "      <td>68.0</td>\n",
       "      <td>14.0</td>\n",
       "      <td>8.0</td>\n",
       "      <td>5.0</td>\n",
       "      <td>12.3</td>\n",
       "      <td>19.8</td>\n",
       "    </tr>\n",
       "    <tr>\n",
       "      <th>text</th>\n",
       "      <td>1687361400</td>\n",
       "      <td>2023-06-21 11:30</td>\n",
       "      <td>20.0</td>\n",
       "      <td>68.0</td>\n",
       "      <td>1</td>\n",
       "      <td>Light rain</td>\n",
       "      <td>15.0</td>\n",
       "      <td>24.1</td>\n",
       "      <td>70</td>\n",
       "      <td>ENE</td>\n",
       "      <td>...</td>\n",
       "      <td>0.0</td>\n",
       "      <td>84</td>\n",
       "      <td>100</td>\n",
       "      <td>20.0</td>\n",
       "      <td>68.0</td>\n",
       "      <td>14.0</td>\n",
       "      <td>8.0</td>\n",
       "      <td>5.0</td>\n",
       "      <td>12.3</td>\n",
       "      <td>19.8</td>\n",
       "    </tr>\n",
       "  </tbody>\n",
       "</table>\n",
       "<p>3 rows × 23 columns</p>\n",
       "</div>"
      ],
      "text/plain": [
       "      last_updated_epoch      last_updated  temp_c  temp_f  is_day  \\\n",
       "code          1687361400  2023-06-21 11:30    20.0    68.0       1   \n",
       "icon          1687361400  2023-06-21 11:30    20.0    68.0       1   \n",
       "text          1687361400  2023-06-21 11:30    20.0    68.0       1   \n",
       "\n",
       "                                           condition  wind_mph  wind_kph  \\\n",
       "code                                            1183      15.0      24.1   \n",
       "icon  //cdn.weatherapi.com/weather/64x64/day/296.png      15.0      24.1   \n",
       "text                                      Light rain      15.0      24.1   \n",
       "\n",
       "      wind_degree wind_dir  ...  precip_in  humidity  cloud  feelslike_c  \\\n",
       "code           70      ENE  ...        0.0        84    100         20.0   \n",
       "icon           70      ENE  ...        0.0        84    100         20.0   \n",
       "text           70      ENE  ...        0.0        84    100         20.0   \n",
       "\n",
       "      feelslike_f  vis_km  vis_miles   uv  gust_mph  gust_kph  \n",
       "code         68.0    14.0        8.0  5.0      12.3      19.8  \n",
       "icon         68.0    14.0        8.0  5.0      12.3      19.8  \n",
       "text         68.0    14.0        8.0  5.0      12.3      19.8  \n",
       "\n",
       "[3 rows x 23 columns]"
      ]
     },
     "execution_count": 270,
     "metadata": {},
     "output_type": "execute_result"
    }
   ],
   "source": [
    "df1.iloc[:, 0:24]"
   ]
  },
  {
   "attachments": {},
   "cell_type": "markdown",
   "metadata": {},
   "source": [
    "# Here we have my SECOND and THIRD columns"
   ]
  },
  {
   "cell_type": "code",
   "execution_count": 258,
   "metadata": {},
   "outputs": [
    {
     "data": {
      "text/html": [
       "<div>\n",
       "<style scoped>\n",
       "    .dataframe tbody tr th:only-of-type {\n",
       "        vertical-align: middle;\n",
       "    }\n",
       "\n",
       "    .dataframe tbody tr th {\n",
       "        vertical-align: top;\n",
       "    }\n",
       "\n",
       "    .dataframe thead th {\n",
       "        text-align: right;\n",
       "    }\n",
       "</style>\n",
       "<table border=\"1\" class=\"dataframe\">\n",
       "  <thead>\n",
       "    <tr style=\"text-align: right;\">\n",
       "      <th></th>\n",
       "      <th>temp_c</th>\n",
       "      <th>temp_f</th>\n",
       "    </tr>\n",
       "  </thead>\n",
       "  <tbody>\n",
       "    <tr>\n",
       "      <th>code</th>\n",
       "      <td>20.0</td>\n",
       "      <td>68.0</td>\n",
       "    </tr>\n",
       "    <tr>\n",
       "      <th>icon</th>\n",
       "      <td>20.0</td>\n",
       "      <td>68.0</td>\n",
       "    </tr>\n",
       "    <tr>\n",
       "      <th>text</th>\n",
       "      <td>20.0</td>\n",
       "      <td>68.0</td>\n",
       "    </tr>\n",
       "  </tbody>\n",
       "</table>\n",
       "</div>"
      ],
      "text/plain": [
       "      temp_c  temp_f\n",
       "code    20.0    68.0\n",
       "icon    20.0    68.0\n",
       "text    20.0    68.0"
      ]
     },
     "execution_count": 258,
     "metadata": {},
     "output_type": "execute_result"
    }
   ],
   "source": [
    "df1.iloc[:, 2:4]"
   ]
  },
  {
   "attachments": {},
   "cell_type": "markdown",
   "metadata": {},
   "source": [
    "# It looks like there are only 3 rows in this DF, but this was my attempt to print the first 4 ROWS."
   ]
  },
  {
   "cell_type": "code",
   "execution_count": 264,
   "metadata": {},
   "outputs": [
    {
     "data": {
      "text/html": [
       "<div>\n",
       "<style scoped>\n",
       "    .dataframe tbody tr th:only-of-type {\n",
       "        vertical-align: middle;\n",
       "    }\n",
       "\n",
       "    .dataframe tbody tr th {\n",
       "        vertical-align: top;\n",
       "    }\n",
       "\n",
       "    .dataframe thead th {\n",
       "        text-align: right;\n",
       "    }\n",
       "</style>\n",
       "<table border=\"1\" class=\"dataframe\">\n",
       "  <thead>\n",
       "    <tr style=\"text-align: right;\">\n",
       "      <th></th>\n",
       "      <th>last_updated_epoch</th>\n",
       "      <th>last_updated</th>\n",
       "      <th>temp_c</th>\n",
       "      <th>temp_f</th>\n",
       "      <th>is_day</th>\n",
       "      <th>condition</th>\n",
       "      <th>wind_mph</th>\n",
       "      <th>wind_kph</th>\n",
       "      <th>wind_degree</th>\n",
       "      <th>wind_dir</th>\n",
       "      <th>...</th>\n",
       "      <th>precip_in</th>\n",
       "      <th>humidity</th>\n",
       "      <th>cloud</th>\n",
       "      <th>feelslike_c</th>\n",
       "      <th>feelslike_f</th>\n",
       "      <th>vis_km</th>\n",
       "      <th>vis_miles</th>\n",
       "      <th>uv</th>\n",
       "      <th>gust_mph</th>\n",
       "      <th>gust_kph</th>\n",
       "    </tr>\n",
       "  </thead>\n",
       "  <tbody>\n",
       "    <tr>\n",
       "      <th>code</th>\n",
       "      <td>1687361400</td>\n",
       "      <td>2023-06-21 11:30</td>\n",
       "      <td>20.0</td>\n",
       "      <td>68.0</td>\n",
       "      <td>1</td>\n",
       "      <td>1183</td>\n",
       "      <td>15.0</td>\n",
       "      <td>24.1</td>\n",
       "      <td>70</td>\n",
       "      <td>ENE</td>\n",
       "      <td>...</td>\n",
       "      <td>0.0</td>\n",
       "      <td>84</td>\n",
       "      <td>100</td>\n",
       "      <td>20.0</td>\n",
       "      <td>68.0</td>\n",
       "      <td>14.0</td>\n",
       "      <td>8.0</td>\n",
       "      <td>5.0</td>\n",
       "      <td>12.3</td>\n",
       "      <td>19.8</td>\n",
       "    </tr>\n",
       "    <tr>\n",
       "      <th>icon</th>\n",
       "      <td>1687361400</td>\n",
       "      <td>2023-06-21 11:30</td>\n",
       "      <td>20.0</td>\n",
       "      <td>68.0</td>\n",
       "      <td>1</td>\n",
       "      <td>//cdn.weatherapi.com/weather/64x64/day/296.png</td>\n",
       "      <td>15.0</td>\n",
       "      <td>24.1</td>\n",
       "      <td>70</td>\n",
       "      <td>ENE</td>\n",
       "      <td>...</td>\n",
       "      <td>0.0</td>\n",
       "      <td>84</td>\n",
       "      <td>100</td>\n",
       "      <td>20.0</td>\n",
       "      <td>68.0</td>\n",
       "      <td>14.0</td>\n",
       "      <td>8.0</td>\n",
       "      <td>5.0</td>\n",
       "      <td>12.3</td>\n",
       "      <td>19.8</td>\n",
       "    </tr>\n",
       "    <tr>\n",
       "      <th>text</th>\n",
       "      <td>1687361400</td>\n",
       "      <td>2023-06-21 11:30</td>\n",
       "      <td>20.0</td>\n",
       "      <td>68.0</td>\n",
       "      <td>1</td>\n",
       "      <td>Light rain</td>\n",
       "      <td>15.0</td>\n",
       "      <td>24.1</td>\n",
       "      <td>70</td>\n",
       "      <td>ENE</td>\n",
       "      <td>...</td>\n",
       "      <td>0.0</td>\n",
       "      <td>84</td>\n",
       "      <td>100</td>\n",
       "      <td>20.0</td>\n",
       "      <td>68.0</td>\n",
       "      <td>14.0</td>\n",
       "      <td>8.0</td>\n",
       "      <td>5.0</td>\n",
       "      <td>12.3</td>\n",
       "      <td>19.8</td>\n",
       "    </tr>\n",
       "  </tbody>\n",
       "</table>\n",
       "<p>3 rows × 23 columns</p>\n",
       "</div>"
      ],
      "text/plain": [
       "      last_updated_epoch      last_updated  temp_c  temp_f  is_day  \\\n",
       "code          1687361400  2023-06-21 11:30    20.0    68.0       1   \n",
       "icon          1687361400  2023-06-21 11:30    20.0    68.0       1   \n",
       "text          1687361400  2023-06-21 11:30    20.0    68.0       1   \n",
       "\n",
       "                                           condition  wind_mph  wind_kph  \\\n",
       "code                                            1183      15.0      24.1   \n",
       "icon  //cdn.weatherapi.com/weather/64x64/day/296.png      15.0      24.1   \n",
       "text                                      Light rain      15.0      24.1   \n",
       "\n",
       "      wind_degree wind_dir  ...  precip_in  humidity  cloud  feelslike_c  \\\n",
       "code           70      ENE  ...        0.0        84    100         20.0   \n",
       "icon           70      ENE  ...        0.0        84    100         20.0   \n",
       "text           70      ENE  ...        0.0        84    100         20.0   \n",
       "\n",
       "      feelslike_f  vis_km  vis_miles   uv  gust_mph  gust_kph  \n",
       "code         68.0    14.0        8.0  5.0      12.3      19.8  \n",
       "icon         68.0    14.0        8.0  5.0      12.3      19.8  \n",
       "text         68.0    14.0        8.0  5.0      12.3      19.8  \n",
       "\n",
       "[3 rows x 23 columns]"
      ]
     },
     "execution_count": 264,
     "metadata": {},
     "output_type": "execute_result"
    }
   ],
   "source": [
    "df1.iloc[0:5]"
   ]
  }
 ],
 "metadata": {
  "kernelspec": {
   "display_name": "base",
   "language": "python",
   "name": "python3"
  },
  "language_info": {
   "codemirror_mode": {
    "name": "ipython",
    "version": 3
   },
   "file_extension": ".py",
   "mimetype": "text/x-python",
   "name": "python",
   "nbconvert_exporter": "python",
   "pygments_lexer": "ipython3",
   "version": "3.9.13"
  },
  "orig_nbformat": 4
 },
 "nbformat": 4,
 "nbformat_minor": 2
}
